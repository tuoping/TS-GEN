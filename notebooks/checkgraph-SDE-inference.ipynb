{
 "cells": [
  {
   "cell_type": "code",
   "execution_count": null,
   "id": "31749741",
   "metadata": {},
   "outputs": [],
   "source": [
    "from argparse import Namespace\n",
    "args = Namespace(\n",
    "    sim_ckpt=\"workdir/_5actspacemask_rcut3.5_loss_regress-path_schrodinger/epoch=2449-step=820750.ckpt\",\n",
    "    data_dir=\"data/CrCoNi_data/dataset-clean/\",\n",
    "    suffix=\"\",\n",
    "    num_frames=1,\n",
    "    num_rollouts=1,\n",
    "    out_dir=\"./test/_5actspacemask_rcut3.5_loss_regress-path_schrodinger_inccreasing-decreasingDiffusion/schedule2_inference_steps_160/\",\n",
    "    # out_dir=\"./test/rcut3.5_energy_encodedim4\",\n",
    "    random_starting_point=True,\n",
    "    localmask=True,\n",
    "    sim_condition=False,\n",
    "    )\n",
    "device = \"cuda\""
   ]
  },
  {
   "cell_type": "code",
   "execution_count": null,
   "id": "525723df",
   "metadata": {},
   "outputs": [],
   "source": [
    "import os, torch, tqdm, time\n",
    "import numpy as np\n",
    "from mdgen.equivariant_wrapper import EquivariantMDGenWrapper"
   ]
  },
  {
   "cell_type": "code",
   "execution_count": null,
   "id": "75679b28",
   "metadata": {},
   "outputs": [],
   "source": [
    "os.makedirs(args.out_dir, exist_ok=True)"
   ]
  },
  {
   "cell_type": "code",
   "execution_count": null,
   "id": "69697478",
   "metadata": {},
   "outputs": [],
   "source": [
    "from mdgen.dataset import EquivariantTransformerDataset_CrCoNi\n",
    "\n",
    "dataset = EquivariantTransformerDataset_CrCoNi(traj_dirname=args.data_dir, cutoff=3.5, num_frames=args.num_frames, random_starting_point=args.random_starting_point, localmask=args.localmask, sim_condition=args.sim_condition, stage=\"val\")\n"
   ]
  },
  {
   "cell_type": "code",
   "execution_count": null,
   "id": "20c7b106",
   "metadata": {},
   "outputs": [],
   "source": [
    "print(dataset[0])"
   ]
  },
  {
   "cell_type": "code",
   "execution_count": null,
   "id": "d9a10fbc",
   "metadata": {},
   "outputs": [],
   "source": [
    "ckpt = torch.load(args.sim_ckpt, weights_only=False)\n",
    "hparams = ckpt[\"hyper_parameters\"]\n",
    "hparams['args'].diffusion_form = \"inccreasing-decreasing\"\n",
    "hparams['args'].inference_steps = 160\n",
    "model = EquivariantMDGenWrapper(**hparams)\n",
    "print(model.model)\n",
    "model.load_state_dict(ckpt[\"state_dict\"], strict=False)\n",
    "model.eval().to(device)"
   ]
  },
  {
   "cell_type": "code",
   "execution_count": null,
   "id": "989c2241",
   "metadata": {},
   "outputs": [],
   "source": [
    "print(hparams['args'].inference_steps)"
   ]
  },
  {
   "cell_type": "code",
   "execution_count": null,
   "id": "b6f99428",
   "metadata": {},
   "outputs": [],
   "source": [
    "print(ckpt[\"hyper_parameters\"])\n",
    "print(ckpt[\"hyper_parameters\"]['args'].sampling_method)\n",
    "print(len(dataset))"
   ]
  },
  {
   "cell_type": "code",
   "execution_count": null,
   "id": "32d36015",
   "metadata": {},
   "outputs": [],
   "source": [
    "batch_size = 1\n",
    "val_loader = torch.utils.data.DataLoader(\n",
    "    dataset,\n",
    "    batch_size=batch_size,\n",
    "    num_workers=0,\n",
    "    shuffle=True,\n",
    ")\n",
    "sample_batch = next(iter(val_loader))\n"
   ]
  },
  {
   "cell_type": "code",
   "execution_count": null,
   "id": "1c014070",
   "metadata": {},
   "outputs": [],
   "source": [
    "print(sample_batch.keys())"
   ]
  },
  {
   "cell_type": "code",
   "execution_count": null,
   "id": "a2c9c92d",
   "metadata": {},
   "outputs": [],
   "source": [
    "print(dataset[499][\"x\"].shape)"
   ]
  },
  {
   "cell_type": "code",
   "execution_count": null,
   "id": "4ea0ba32",
   "metadata": {},
   "outputs": [],
   "source": [
    "raise RuntimeError"
   ]
  },
  {
   "cell_type": "markdown",
   "id": "fd6713b1",
   "metadata": {},
   "source": [
    "## Test generative model"
   ]
  },
  {
   "cell_type": "code",
   "execution_count": null,
   "id": "4d143595",
   "metadata": {},
   "outputs": [],
   "source": [
    "for key in ['species', 'x', 'cell', 'num_atoms', 'mask', 'v_mask']:\n",
    "    sample_batch[key] = sample_batch[key].to(device)\n",
    "\n",
    "pred_pos = model.inference(sample_batch)\n",
    "\n"
   ]
  },
  {
   "cell_type": "code",
   "execution_count": null,
   "id": "bea204d8",
   "metadata": {},
   "outputs": [],
   "source": [
    "@torch.no_grad()\n",
    "def rollout(model, batch):\n",
    "    expanded_batch = batch\n",
    "    positions, _ = model.inference(expanded_batch)\n",
    "    # mask_act_space = (batch[\"mask\"] != 0)\n",
    "    # positions = positions*mask_act_space\n",
    "    new_batch = {**batch}\n",
    "    new_batch['x'] = positions\n",
    "    return positions, new_batch"
   ]
  },
  {
   "cell_type": "code",
   "execution_count": null,
   "id": "bb0d32f7",
   "metadata": {},
   "outputs": [],
   "source": [
    "\n",
    "map_to_chemical_symbol = {\n",
    "    0: \"Cr\",\n",
    "    1: 'Co',\n",
    "    2: \"Ni\"\n",
    "}"
   ]
  },
  {
   "cell_type": "markdown",
   "id": "10cdd6cc",
   "metadata": {},
   "source": []
  },
  {
   "cell_type": "code",
   "execution_count": null,
   "id": "2cd14062",
   "metadata": {},
   "outputs": [],
   "source": [
    "from ase import Atoms\n",
    "from ase.geometry.geometry import get_distances\n",
    "\n",
    "# all_rollout_positions = []\n",
    "all_rollout_atoms = []\n",
    "all_rollout_atoms_ref = []\n",
    "start = time.time()\n",
    "for i_rollout in range(10):\n",
    "# for i_rollout in range(1):\n",
    "    idx = np.random.randint(0, len(dataset), 1)[0]\n",
    "    # idx = 0\n",
    "    item = dataset.__getitem__(idx)\n",
    "    batch = next(iter(torch.utils.data.DataLoader([item])))\n",
    "\n",
    "    for key in ['species', 'x', 'cell', 'num_atoms', 'mask', 'v_mask']:\n",
    "        batch[key] = batch[key].to(device)\n",
    "\n",
    "    labels = torch.argmax(batch[\"species\"], dim=3).squeeze(0)\n",
    "    symbols = [[map_to_chemical_symbol[int(i_elem.to('cpu'))] for i_elem in labels[i_conf]] for i_conf in range(len(labels))]\n",
    "\n",
    "    pred_pos, _ = rollout(model, batch)\n",
    "    print(\"idx = \", idx, \"rollout\", i_rollout, pred_pos.shape)\n",
    "\n",
    "    all_atoms = []\n",
    "    all_atoms_ref = []\n",
    "    for t in range(len(pred_pos[0])):\n",
    "        formula = \"\".join(symbols[t])\n",
    "\n",
    "        # print(\"t=\",t)\n",
    "        # for i in range(pred_pos.shape[2]):\n",
    "        #     err = get_distances(batch[\"x_next\"][0][t][i].cpu().numpy(), (pred_pos[0][t].cpu().numpy()[i]), cell=batch['cell'][0][0].cpu().numpy(), pbc=True)[1][0][0]\n",
    "        #     if err>0.1:\n",
    "        #         print(pred_pos[0][t].cpu().numpy()[i], batch[\"x_next\"][0][t][i].cpu().numpy(), err, err>0.1)\n",
    "        atoms = Atoms(formula, positions=pred_pos[0][t].cpu().numpy(), cell=batch['cell'][0][0].cpu().numpy(), pbc=[1,1,1])\n",
    "        # atoms.set_chemical_symbols(symbols[t])\n",
    "        all_atoms.append(atoms)\n",
    "        atoms_ref = Atoms(formula, positions=batch[\"x\"][0][t].cpu().numpy(), cell=batch['cell'][0][0].cpu().numpy(), pbc=[1,1,1])\n",
    "        all_atoms_ref.append(atoms_ref)\n",
    "    all_rollout_atoms.append(all_atoms)\n",
    "    all_rollout_atoms_ref.append(all_atoms_ref)\n"
   ]
  },
  {
   "cell_type": "code",
   "execution_count": null,
   "id": "210e02be",
   "metadata": {},
   "outputs": [],
   "source": [
    "\n",
    "'''\n",
    "for i_rollout in range(10):\n",
    "    print(\"rollout\", i_rollout, pred_pos.shape)\n",
    "    all_atoms = all_rollout_atoms[i_rollout]\n",
    "    all_atoms_ref = all_rollout_atoms_ref[i_rollout]\n",
    "    for t in range(len(pred_pos[0])):\n",
    "        print(\"t=\",t)\n",
    "        atoms = all_atoms[t]\n",
    "        atoms_ref = all_atoms_ref[t]\n",
    "        for i in range(atoms.positions.shape[0]):\n",
    "            err = get_distances(atoms_ref.positions[i], atoms.positions[i], cell=atoms.cell, pbc=True)[1][0][0]\n",
    "\n",
    "            if err>0.1:\n",
    "                print(atoms.positions[i], atoms_ref.positions[i], err, err>0.1)\n",
    "        \n",
    "'''"
   ]
  },
  {
   "cell_type": "code",
   "execution_count": null,
   "id": "76f18d78",
   "metadata": {},
   "outputs": [],
   "source": [
    "import shutil\n",
    "from ase.io import write\n",
    "\n",
    "for i in range(10):\n",
    "    dirname = os.path.join(args.out_dir, f\"rollout_{i}\")\n",
    "    if not os.path.exists(dirname):\n",
    "        os.makedirs(dirname)\n",
    "    filename = os.path.join(dirname, \"gentraj_.xyz\")\n",
    "    filename_ref = os.path.join(dirname, \"reftraj_.xyz\")\n",
    "    if os.path.exists(filename):\n",
    "        shutil.move(filename, os.path.join(dirname, \"bck.0.gentraj.xyz\"))\n",
    "        shutil.move(filename_ref, os.path.join(dirname, \"bck.0.reftraj.xyz\"))\n",
    "\n",
    "    for atoms in all_rollout_atoms[i]:\n",
    "        write(filename, atoms, append=True)\n",
    "    for ref_atoms in all_rollout_atoms_ref[i]:\n",
    "        print(i, filename_ref)\n",
    "        write(filename_ref, ref_atoms, append=True)"
   ]
  },
  {
   "cell_type": "code",
   "execution_count": null,
   "id": "7c216848",
   "metadata": {},
   "outputs": [],
   "source": [
    "raise RuntimeError"
   ]
  },
  {
   "cell_type": "code",
   "execution_count": null,
   "id": "20e38cc4",
   "metadata": {},
   "outputs": [],
   "source": [
    "# Generate trajectory\n",
    "# idx = np.random.randint(0, len(dataset), 1)[0]\n",
    "idx = 0\n",
    "item = dataset.__getitem__(idx, random_starting_point=False)\n",
    "batch = next(iter(torch.utils.data.DataLoader([item])))\n",
    "\n",
    "# all_rollout_positions = []\n",
    "traj_rollout_atoms = []\n",
    "# traj_rollout_atoms_ref = []\n",
    "start = time.time()\n",
    "for i_rollout in range(args.num_rollouts):\n",
    "# for i_rollout in range(1):\n",
    "    for key in ['species', 'x', 'cell', 'num_atoms', 'mask', 'v_mask']:\n",
    "        batch[key] = batch[key].to('cuda')\n",
    "\n",
    "    labels = torch.argmax(batch[\"species\"], dim=3).squeeze(0)\n",
    "    symbols = [[map_to_chemical_symbol[int(i_elem.to('cpu'))] for i_elem in labels[i_conf]] for i_conf in range(len(labels))]\n",
    "\n",
    "    pred_pos, next_batch = rollout(model, batch)\n",
    "    print(\"idx = \", idx, \"rollout\", i_rollout, pred_pos.shape)\n",
    "    all_atoms = []\n",
    "    all_atoms_ref = []\n",
    "    all_out_pos = []\n",
    "    for t in range(len(pred_pos[0])):\n",
    "        formula = \"\".join(symbols[t])\n",
    "\n",
    "        # if i_rollout == 0:\n",
    "        #     for i in range(pred_pos.shape[2]):\n",
    "        err = get_distances(batch[\"x_next\"][0][t].cpu().numpy(), (pred_pos[0][t].cpu().numpy()), cell=batch['cell'][0][0].cpu().numpy(), pbc=True)[1]\n",
    "\n",
    "        # out_pos = torch.stack([pred_pos[0][t][i] if err[i][i] > 1 else batch[\"x\"][0][t][i] for i in range(len(pred_pos[0][t]))])\n",
    "        out_pos = pred_pos[0][t]\n",
    "\n",
    "        atoms = Atoms(formula, positions=out_pos.cpu().numpy(), cell=batch['cell'][0][0].cpu().numpy(), pbc=[1,1,1])\n",
    "        \n",
    "        # atoms.set_chemical_symbols(symbols[t])\n",
    "        all_atoms.append(atoms)\n",
    "        # atoms_ref = Atoms(formula, positions=batch[\"x_next\"][0][t].cpu().numpy(), cell=batch['cell'][0][0].cpu().numpy(), pbc=[1,1,1])\n",
    "        # all_atoms_ref.append(atoms_ref)\n",
    "        all_out_pos.append(out_pos)\n",
    "    # next_batch[\"x\"] = out_pos.unsqueeze(0).unsqueeze(0)\n",
    "    traj_rollout_atoms.append(all_atoms)\n",
    "    # all_rollout_atoms_ref.append(all_atoms_ref)\n",
    "    batch = next_batch"
   ]
  },
  {
   "cell_type": "code",
   "execution_count": null,
   "id": "396cfde1",
   "metadata": {},
   "outputs": [],
   "source": [
    "\n",
    "\n",
    "\n",
    "filename = os.path.join(args.out_dir, \"gentraj_fromstart.xyz\")\n",
    "if os.path.exists(filename):\n",
    "    shutil.move(filename, os.path.join(args.out_dir, \"bck.0.gentraj.xyz\"))\n",
    "for atoms in traj_rollout_atoms:\n",
    "    write(filename, atoms, append=True)\n"
   ]
  }
 ],
 "metadata": {
  "kernelspec": {
   "display_name": "odefed_mdgen",
   "language": "python",
   "name": "python3"
  },
  "language_info": {
   "codemirror_mode": {
    "name": "ipython",
    "version": 3
   },
   "file_extension": ".py",
   "mimetype": "text/x-python",
   "name": "python",
   "nbconvert_exporter": "python",
   "pygments_lexer": "ipython3",
   "version": "3.10.16"
  }
 },
 "nbformat": 4,
 "nbformat_minor": 5
}
