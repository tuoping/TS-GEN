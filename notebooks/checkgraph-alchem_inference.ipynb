{
 "cells": [
  {
   "cell_type": "code",
   "execution_count": null,
   "id": "31749741",
   "metadata": {},
   "outputs": [],
   "source": [
    "from argparse import Namespace\n",
    "args = Namespace(\n",
    "    sim_ckpt=\"workdir/alchem_loss_regress-path_linear/epoch=9-step=3350.ckpt\",\n",
    "    data_dir=\"data/alchem_CrCoNi_data\",\n",
    "    suffix=\"\",\n",
    "    num_frames=1,\n",
    "    num_rollouts=100,\n",
    "    out_dir=\"./test/alchem_loss_regress-path_linear-forwardpred_1teps\"\n",
    "    )"
   ]
  },
  {
   "cell_type": "code",
   "execution_count": null,
   "id": "525723df",
   "metadata": {},
   "outputs": [],
   "source": [
    "import os, torch, tqdm, time\n",
    "import numpy as np\n",
    "from mdgen.equivariant_wrapper import EquivariantMDGenWrapper"
   ]
  },
  {
   "cell_type": "code",
   "execution_count": null,
   "id": "75679b28",
   "metadata": {},
   "outputs": [],
   "source": [
    "os.makedirs(args.out_dir, exist_ok=True)"
   ]
  },
  {
   "cell_type": "code",
   "execution_count": null,
   "id": "69697478",
   "metadata": {},
   "outputs": [],
   "source": [
    "from mdgen.dataset import EquivariantTransformerDataset_CrCoNi\n",
    "\n",
    "dataset = EquivariantTransformerDataset_CrCoNi(traj_dirname=args.data_dir, cutoff=2.5, num_frames=args.num_frames, stage=\"train\")\n"
   ]
  },
  {
   "cell_type": "code",
   "execution_count": null,
   "id": "d9a10fbc",
   "metadata": {},
   "outputs": [],
   "source": [
    "ckpt = torch.load(args.sim_ckpt, weights_only=False)\n",
    "model = EquivariantMDGenWrapper(**ckpt[\"hyper_parameters\"])\n",
    "model.load_state_dict(ckpt[\"state_dict\"])\n",
    "model.eval().to('cuda')"
   ]
  },
  {
   "cell_type": "code",
   "execution_count": null,
   "id": "bea204d8",
   "metadata": {},
   "outputs": [],
   "source": [
    "@torch.no_grad()\n",
    "def rollout(model, batch):\n",
    "    expanded_batch = batch\n",
    "    s, _ = model.inference(expanded_batch)\n",
    "    new_batch = {**batch}\n",
    "    new_batch['species'] = s\n",
    "    return s, new_batch"
   ]
  },
  {
   "cell_type": "code",
   "execution_count": null,
   "id": "bb0d32f7",
   "metadata": {},
   "outputs": [],
   "source": [
    "\n",
    "map_to_chemical_symbol = {\n",
    "    0: \"Cr\",\n",
    "    1: 'Co',\n",
    "    2: \"Ni\"\n",
    "}"
   ]
  },
  {
   "cell_type": "code",
   "execution_count": null,
   "id": "2cd14062",
   "metadata": {},
   "outputs": [],
   "source": [
    "from ase import Atoms\n",
    "from ase.geometry.geometry import get_distances\n",
    "\n",
    "# all_rollout_positions = []\n",
    "all_rollout_atoms = []\n",
    "all_rollout_atoms_ref = []\n",
    "start = time.time()\n",
    "for i_rollout in range(10):\n",
    "# for i_rollout in range(1):\n",
    "    idx = np.random.randint(0, len(dataset), 1)[0]\n",
    "    # idx = 0\n",
    "    item = dataset.__getitem__(idx, random_starting_point=False)\n",
    "    batch = next(iter(torch.utils.data.DataLoader([item])))\n",
    "\n",
    "    for key in ['species', 'x', 'cell', 'num_atoms', 'mask', 'v_mask']:\n",
    "        batch[key] = batch[key].to('cuda')\n",
    "\n",
    "\n",
    "    pred_s, _ = rollout(model, batch)\n",
    "    labels = torch.argmax(pred_s, dim=-1).squeeze(0)\n",
    "    symbols = [[map_to_chemical_symbol[int(i_elem.to('cpu'))] for i_elem in labels[i_conf]] for i_conf in range(len(labels))]\n",
    "\n",
    "    print(\"idx = \", idx, \"rollout\", i_rollout, pred_s.shape)\n",
    "    all_atoms = []\n",
    "    all_atoms_ref = []\n",
    "    for t in range(len(pred_s[0])):\n",
    "        formula = \"\".join(symbols[t])\n",
    "\n",
    "        atoms = Atoms(formula, positions=batch[\"x\"][0][0].cpu().numpy(), cell=batch['cell'][0][0].cpu().numpy(), pbc=[1,1,1])\n",
    "        # atoms.set_chemical_symbols(symbols[t])\n",
    "        all_atoms.append(atoms)\n",
    "        atoms_ref = Atoms(formula, positions=batch[\"x\"][0][t].cpu().numpy(), cell=batch['cell'][0][0].cpu().numpy(), pbc=[1,1,1])\n",
    "        all_atoms_ref.append(atoms_ref)\n",
    "    all_rollout_atoms.append(all_atoms)\n",
    "    all_rollout_atoms_ref.append(all_atoms_ref)\n"
   ]
  },
  {
   "cell_type": "code",
   "execution_count": null,
   "id": "210e02be",
   "metadata": {},
   "outputs": [],
   "source": [
    "\n",
    "\n",
    "for i_rollout in range(10):\n",
    "    print(\"rollout\", i_rollout, pred_pos.shape)\n",
    "    all_atoms = all_rollout_atoms[i_rollout]\n",
    "    all_atoms_ref = all_rollout_atoms_ref[i_rollout]\n",
    "    for t in range(len(pred_pos[0])):\n",
    "        print(\"t=\",t)\n",
    "        atoms = all_atoms[t]\n",
    "        atoms_ref = all_atoms_ref[t]\n",
    "        for i in range(atoms.positions.shape[0]):\n",
    "            err = get_distances(atoms_ref.positions[i], atoms.positions[i], cell=atoms.cell, pbc=True)[0][0][0]\n",
    "            if err.max()>0.5:\n",
    "                print(atoms.positions[i], atoms_ref.positions[i], err.max(), err.max()>0.5)\n",
    "        \n"
   ]
  },
  {
   "cell_type": "code",
   "execution_count": null,
   "id": "20e38cc4",
   "metadata": {},
   "outputs": [],
   "source": [
    "# Generate trajectory\n",
    "# idx = np.random.randint(0, len(dataset), 1)[0]\n",
    "idx = 0\n",
    "item = dataset.__getitem__(idx, random_starting_point=False)\n",
    "batch = next(iter(torch.utils.data.DataLoader([item])))\n",
    "\n",
    "# all_rollout_positions = []\n",
    "traj_rollout_atoms = []\n",
    "# traj_rollout_atoms_ref = []\n",
    "start = time.time()\n",
    "for i_rollout in range(args.num_rollouts):\n",
    "# for i_rollout in range(1):\n",
    "    for key in ['species', 'x', 'cell', 'num_atoms', 'mask', 'v_mask']:\n",
    "        batch[key] = batch[key].to('cuda')\n",
    "\n",
    "    labels = torch.argmax(batch[\"species\"], dim=3).squeeze(0)\n",
    "    symbols = [[map_to_chemical_symbol[int(i_elem.to('cpu'))] for i_elem in labels[i_conf]] for i_conf in range(len(labels))]\n",
    "\n",
    "    pred_pos, next_batch = rollout(model, batch)\n",
    "    print(\"idx = \", idx, \"rollout\", i_rollout, pred_pos.shape)\n",
    "    all_atoms = []\n",
    "    all_atoms_ref = []\n",
    "    all_out_pos = []\n",
    "    for t in range(len(pred_pos[0])):\n",
    "        formula = \"\".join(symbols[t])\n",
    "\n",
    "        # if i_rollout == 0:\n",
    "        #     for i in range(pred_pos.shape[2]):\n",
    "        err = get_distances(batch[\"x_next\"][0][t].cpu().numpy(), (pred_pos[0][t].cpu().numpy()), cell=batch['cell'][0][0].cpu().numpy(), pbc=True)[1]\n",
    "\n",
    "        # out_pos = torch.stack([pred_pos[0][t][i] if err[i][i] > 1 else batch[\"x\"][0][t][i] for i in range(len(pred_pos[0][t]))])\n",
    "        out_pos = pred_pos[0][t]\n",
    "\n",
    "        atoms = Atoms(formula, positions=out_pos.cpu().numpy(), cell=batch['cell'][0][0].cpu().numpy(), pbc=[1,1,1])\n",
    "        \n",
    "        # atoms.set_chemical_symbols(symbols[t])\n",
    "        all_atoms.append(atoms)\n",
    "        # atoms_ref = Atoms(formula, positions=batch[\"x_next\"][0][t].cpu().numpy(), cell=batch['cell'][0][0].cpu().numpy(), pbc=[1,1,1])\n",
    "        # all_atoms_ref.append(atoms_ref)\n",
    "        all_out_pos.append(out_pos)\n",
    "    # next_batch[\"x\"] = out_pos.unsqueeze(0).unsqueeze(0)\n",
    "    traj_rollout_atoms.append(all_atoms)\n",
    "    # all_rollout_atoms_ref.append(all_atoms_ref)\n",
    "    batch = next_batch"
   ]
  },
  {
   "cell_type": "code",
   "execution_count": null,
   "id": "396cfde1",
   "metadata": {},
   "outputs": [],
   "source": [
    "import shutil\n",
    "from ase.io import write\n",
    "\n",
    "for i in range(10):\n",
    "    dirname = os.path.join(args.out_dir, f\"rollout_{i}\")\n",
    "    if not os.path.exists(dirname):\n",
    "        os.makedirs(dirname)\n",
    "    filename = os.path.join(dirname, \"gentraj_fromstart.xyz\")\n",
    "    filename_ref = os.path.join(dirname, \"reftraj_fromstart.xyz\")\n",
    "    if os.path.exists(filename):\n",
    "        shutil.move(filename, os.path.join(dirname, \"bck.0.gentraj.xyz\"))\n",
    "        shutil.move(filename_ref, os.path.join(dirname, \"bck.0.reftraj.xyz\"))\n",
    "    # os.remove(filename)\n",
    "    for atoms in all_rollout_atoms[i]:\n",
    "        write(filename, atoms, append=True)\n",
    "    for ref_atoms in all_rollout_atoms_ref[i]:\n",
    "        write(filename_ref, ref_atoms, append=True)\n",
    "\n",
    "\n",
    "filename = os.path.join(args.out_dir, \"gentraj_fromstart.xyz\")\n",
    "if os.path.exists(filename):\n",
    "    shutil.move(filename, os.path.join(args.out_dir, \"bck.0.gentraj.xyz\"))\n",
    "for atoms in traj_rollout_atoms:\n",
    "    write(filename, atoms, append=True)\n"
   ]
  }
 ],
 "metadata": {
  "kernelspec": {
   "display_name": "odefed_mdgen",
   "language": "python",
   "name": "python3"
  },
  "language_info": {
   "codemirror_mode": {
    "name": "ipython",
    "version": 3
   },
   "file_extension": ".py",
   "mimetype": "text/x-python",
   "name": "python",
   "nbconvert_exporter": "python",
   "pygments_lexer": "ipython3",
   "version": "3.10.16"
  }
 },
 "nbformat": 4,
 "nbformat_minor": 5
}
