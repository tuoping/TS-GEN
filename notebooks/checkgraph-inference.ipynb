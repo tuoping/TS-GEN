{
 "cells": [
  {
   "cell_type": "code",
   "execution_count": null,
   "id": "31749741",
   "metadata": {},
   "outputs": [],
   "source": [
    "from argparse import Namespace\n",
    "args = Namespace(\n",
    "    # sim_ckpt=\"workdir/mixedtrain_simcond_12actspacemask-rcut3.5-path_linearOT/epoch=18099-step=4341640.ckpt\",\n",
    "    sim_ckpt=\"workdir/rcut3.5_energy_encodedim1_perturbeddata/epoch=6029-step=2020050.ckpt\",\n",
    "    data_dir=\"data/CrCoNi_data/dataset-perturbed\",\n",
    "    suffix=\"\",\n",
    "    num_rollouts=1,\n",
    "    # out_dir=\"./test/mixedtrain_simcond_12actspacemask-rcut3.5-path_linearOT\",\n",
    "    out_dir=\"./test/rcut3.5_energy_encodedim1_perturbeddata/encoded_dataset-perturbed\",\n",
    "    # num_frames=1,\n",
    "    # random_starting_point=True,\n",
    "    # localmask=True,\n",
    "    # sim_condition=True,\n",
    "    num_frames=20,\n",
    "    random_starting_point=False,\n",
    "    localmask=False,\n",
    "    sim_condition=False,\n",
    "    )\n",
    "device = \"cuda\""
   ]
  },
  {
   "cell_type": "code",
   "execution_count": null,
   "id": "525723df",
   "metadata": {},
   "outputs": [],
   "source": [
    "import os, torch, tqdm, time\n",
    "import numpy as np\n",
    "from mdgen.equivariant_wrapper import EquivariantMDGenWrapper"
   ]
  },
  {
   "cell_type": "code",
   "execution_count": null,
   "id": "75679b28",
   "metadata": {},
   "outputs": [],
   "source": [
    "os.makedirs(args.out_dir, exist_ok=True)"
   ]
  },
  {
   "cell_type": "code",
   "execution_count": null,
   "id": "69697478",
   "metadata": {},
   "outputs": [],
   "source": [
    "from mdgen.dataset import EquivariantTransformerDataset_CrCoNi\n",
    "\n",
    "dataset = EquivariantTransformerDataset_CrCoNi(traj_dirname=args.data_dir, cutoff=3.5, num_frames=args.num_frames, random_starting_point=args.random_starting_point, localmask=args.localmask, sim_condition=args.sim_condition, stage=\"val\")\n"
   ]
  },
  {
   "cell_type": "code",
   "execution_count": null,
   "id": "20c7b106",
   "metadata": {},
   "outputs": [],
   "source": [
    "print(dataset[0])"
   ]
  },
  {
   "cell_type": "code",
   "execution_count": null,
   "id": "d9a10fbc",
   "metadata": {},
   "outputs": [],
   "source": [
    "ckpt = torch.load(args.sim_ckpt, weights_only=False)\n",
    "hparams = ckpt[\"hyper_parameters\"]\n",
    "model = EquivariantMDGenWrapper(**hparams)\n",
    "print(model.model)\n",
    "model.load_state_dict(ckpt[\"state_dict\"], strict=False)\n",
    "model.eval().to(device)"
   ]
  },
  {
   "cell_type": "code",
   "execution_count": null,
   "id": "b6f99428",
   "metadata": {},
   "outputs": [],
   "source": [
    "print(ckpt[\"hyper_parameters\"])\n",
    "print(len(dataset))"
   ]
  },
  {
   "cell_type": "code",
   "execution_count": null,
   "id": "9d63f37e",
   "metadata": {},
   "outputs": [],
   "source": [
    "embed_dim = ckpt[\"hyper_parameters\"]['args'].embed_dim"
   ]
  },
  {
   "cell_type": "code",
   "execution_count": null,
   "id": "e86fb5a6",
   "metadata": {},
   "outputs": [],
   "source": [
    "print(ckpt[\"hyper_parameters\"]['args'].num_heads)"
   ]
  },
  {
   "cell_type": "code",
   "execution_count": null,
   "id": "32d36015",
   "metadata": {},
   "outputs": [],
   "source": [
    "batch_size = 1\n",
    "val_loader = torch.utils.data.DataLoader(\n",
    "    dataset,\n",
    "    batch_size=batch_size,\n",
    "    num_workers=0,\n",
    "    shuffle=True,\n",
    ")\n",
    "sample_batch = next(iter(val_loader))\n"
   ]
  },
  {
   "cell_type": "code",
   "execution_count": null,
   "id": "1c014070",
   "metadata": {},
   "outputs": [],
   "source": [
    "print(sample_batch.keys())"
   ]
  },
  {
   "cell_type": "code",
   "execution_count": null,
   "id": "a2c9c92d",
   "metadata": {},
   "outputs": [],
   "source": [
    "print(dataset[499][\"x\"].shape)"
   ]
  },
  {
   "cell_type": "code",
   "execution_count": null,
   "id": "4ea0ba32",
   "metadata": {},
   "outputs": [],
   "source": [
    "raise RuntimeError"
   ]
  },
  {
   "cell_type": "markdown",
   "id": "945a7312",
   "metadata": {},
   "source": [
    "## Test trained encoder"
   ]
  },
  {
   "cell_type": "code",
   "execution_count": null,
   "id": "e8c791e0",
   "metadata": {},
   "outputs": [],
   "source": [
    "print(len(dataset))"
   ]
  },
  {
   "cell_type": "code",
   "execution_count": null,
   "id": "bdd36671",
   "metadata": {},
   "outputs": [],
   "source": [
    "batch_size = 1\n",
    "# val_loader = torch.utils.data.DataLoader(\n",
    "#     dataset,\n",
    "#     batch_size=batch_size,\n",
    "#     num_workers=0,\n",
    "#     shuffle=True,\n",
    "# )\n",
    "# sample_batch = next(iter(val_loader))\n",
    "\n",
    "for idx in range(len(dataset)):\n",
    "# for idx in range(1):\n",
    "    sample_batch = dataset[idx]\n",
    "    sample_batch_clean = dataset[idx]\n",
    "    for k in sample_batch.keys():\n",
    "        if k != \"name\" and k != \"idx\":\n",
    "            sample_batch[k] = sample_batch[k].unsqueeze(0).to('cuda')\n",
    "            sample_batch_clean[k] = sample_batch_clean[k].unsqueeze(0).to('cuda')\n",
    "\n",
    "    sample_batch[\"x\"] += 0.5 * torch.randn_like(sample_batch[\"x\"])\n",
    "\n",
    "    idx_dataset = sample_batch[\"idx\"]\n",
    "    model.stage = \"inference\"\n",
    "    prep_clean = model.prep_batch(sample_batch_clean)\n",
    "    t = torch.ones(batch_size).to(model.device)\n",
    "    encoded_h, encoded_v = model.model.forward_processor(prep_clean[\"latents\"], t, **prep_clean[\"model_kwargs\"] )\n",
    "    B, T, N, _ = prep_clean[\"latents\"].shape\n",
    "    assert encoded_h.shape[0] == B*T*N\n",
    "    print(idx, idx_dataset, B,T,N, encoded_h.reshape(B,T,-1,embed_dim).shape, sample_batch['x'].shape)\n",
    "    torch.save(encoded_h.reshape(B, T,-1,embed_dim), os.path.join(args.out_dir, f\"encoded_h-{idx_dataset}.pt\"))\n",
    "    torch.save(encoded_v.reshape(B, T,-1,embed_dim,3), os.path.join(args.out_dir, f\"encoded_v-{idx_dataset}.pt\"))"
   ]
  },
  {
   "cell_type": "code",
   "execution_count": null,
   "id": "5ede1ad7",
   "metadata": {},
   "outputs": [],
   "source": [
    "\n",
    "prep = model.prep_batch(sample_batch)\n",
    "t = torch.ones(batch_size).to(model.device)\n",
    "encoded_h_perturbed, encoded_v_perturbed = model.model.forward_processor(prep[\"latents\"], t, **prep[\"model_kwargs\"] )\n"
   ]
  },
  {
   "cell_type": "code",
   "execution_count": null,
   "id": "8526c1e0",
   "metadata": {},
   "outputs": [],
   "source": [
    "energy = model.model(prep_clean[\"latents\"], t, **prep_clean[\"model_kwargs\"] )\n",
    "print(energy.shape)\n",
    "print(energy.sum(dim=2).shape, prep_clean[\"E\"].shape)\n",
    "print(energy.sum(dim=2), prep_clean[\"E\"])"
   ]
  },
  {
   "cell_type": "code",
   "execution_count": null,
   "id": "51189e5e",
   "metadata": {},
   "outputs": [],
   "source": [
    "print(sample_batch.keys())"
   ]
  },
  {
   "cell_type": "code",
   "execution_count": null,
   "id": "d4fd687d",
   "metadata": {},
   "outputs": [],
   "source": [
    "energy_perturbed = model.model(prep[\"latents\"], t, **prep[\"model_kwargs\"] )\n",
    "print(energy_perturbed.sum(dim=2), prep[\"E\"], sample_batch[\"e_mace\"])"
   ]
  },
  {
   "cell_type": "code",
   "execution_count": null,
   "id": "e6182373",
   "metadata": {},
   "outputs": [],
   "source": [
    "from sklearn.decomposition import PCA"
   ]
  },
  {
   "cell_type": "code",
   "execution_count": null,
   "id": "7c5355b3",
   "metadata": {},
   "outputs": [],
   "source": [
    "# pca_2d = PCA(n_components=1)\n",
    "# data_2d = pca_2d.fit_transform(encoded_h.detach().cpu().numpy())\n",
    "data_2d = encoded_h.detach().cpu().numpy()\n",
    "# data_2d_perturbed = pca_2d.transform(encoded_h_perturbed.detach().cpu().numpy())\n",
    "data_2d_perturbed = encoded_h_perturbed.detach().cpu().numpy()\n",
    "import matplotlib.pyplot as plt\n",
    "plt.figure(figsize=(4, 3.5))\n",
    "# plt.scatter(data_2d[:, 0], data_2d[:, 1], c=prep[\"species\"].squeeze(0).squeeze(0).argmax(dim=-1).cpu().numpy(), cmap='viridis', s=1)\n",
    "# plt.scatter(data_2d[:, 0], data_2d[:, 1], s=1, label=\"Crystalline\")\n",
    "# plt.scatter(data_2d_perturbed[:, 0], data_2d_perturbed[:, 1], s=1, label=\"Perturbed\")\n",
    "plt.scatter(data_2d[:, 0], data_2d_perturbed[:, 0], c=prep[\"species\"].squeeze(0).squeeze(0).argmax(dim=-1).cpu().numpy(), cmap='viridis', s=1)\n",
    "cbar =plt.colorbar()\n",
    "cbar.set_label('species')\n",
    "plt.plot(plt.xlim(), plt.ylim(), c=\"k\", ls=\"--\")\n",
    "plt.legend()\n",
    "plt.title(\"PCA of encoded_h\")\n",
    "# plt.xlabel(\"PC1\")\n",
    "# plt.ylabel(\"PC2\")\n",
    "\n",
    "plt.xlabel(\"Crystalline\")\n",
    "plt.ylabel(\"Perturbed\")"
   ]
  },
  {
   "cell_type": "code",
   "execution_count": null,
   "id": "68a2fba5",
   "metadata": {},
   "outputs": [],
   "source": [
    "\n",
    "plt.figure(figsize=(5, 3.5))\n",
    "# plt.scatter(encoded_h[:, 0].detach().cpu().numpy(), encoded_h[:, 1].detach().cpu().numpy(), c=prep[\"species\"].squeeze(0).squeeze(0).argmax(dim=-1).cpu().numpy(), cmap='viridis', s=1)\n",
    "plt.scatter(encoded_h[:, 0].detach().cpu().numpy(), encoded_h[:, 1].detach().cpu().numpy(), s=1, label=\"Crystalline\")\n",
    "plt.scatter(encoded_h_perturbed[:, 0].detach().cpu().numpy(), encoded_h_perturbed[:, 1].detach().cpu().numpy(), s=1, label=\"Perturbed\")\n",
    "cbar =plt.colorbar()\n",
    "cbar.set_label('species')\n",
    "plt.legend()\n",
    "plt.title(\"Components of encoded_h\")\n",
    "plt.xlabel(\"Component 1\")\n",
    "plt.ylabel(\"Component 2\")"
   ]
  },
  {
   "cell_type": "code",
   "execution_count": null,
   "id": "83cdf664",
   "metadata": {},
   "outputs": [],
   "source": [
    "'''\n",
    "from neighborhood import get_neighborhood\n",
    "edge_index, shifts, _, cell = get_neighborhood(prep[\"latents\"].squeeze(0).squeeze(0).cpu().numpy(), cutoff=3.5, pbc=[True, True, True], cell=prep[\"model_kwargs\"][\"cell\"].squeeze(0).squeeze(0).cpu().numpy())\n",
    "atomic_numbers = prep[\"species\"].squeeze(0).squeeze(0).argmax(dim=-1).cpu().numpy()\n",
    "neigh_atomic_numbers = atomic_numbers[edge_index[1]]\n",
    "center_atomic_numbers = atomic_numbers[edge_index[0]]\n",
    "print(\"center_atomic_numbers=\", center_atomic_numbers)\n",
    "print(\"neigh_atomic_numbers=\", neigh_atomic_numbers)\n",
    "print(center_atomic_numbers.shape, neigh_atomic_numbers.shape)\n",
    "'''"
   ]
  },
  {
   "cell_type": "code",
   "execution_count": null,
   "id": "cdba89eb",
   "metadata": {},
   "outputs": [],
   "source": [
    "def warren_cowley_sro(center_type, neigh_type, center_pool, neigh_pool):\n",
    "    loc_center = np.where(center_pool == center_type)\n",
    "    center = center_pool[loc_center]\n",
    "    neigh = neigh_pool[loc_center]\n",
    "    P_cluster = sum(neigh == neigh_type)/len(neigh)\n",
    "    x_neigh_type = sum(center_pool == neigh_type)/len(center_pool)\n",
    "    alpha = 1-P_cluster/x_neigh_type\n",
    "    return alpha, P_cluster, x_neigh_type"
   ]
  },
  {
   "cell_type": "code",
   "execution_count": null,
   "id": "dee22b3b",
   "metadata": {},
   "outputs": [],
   "source": [
    "def warren_cowley_sro_per_atom(idx_atom, _target_type, edge_pool, neigh_type_pool):\n",
    "    loc_center = np.where(edge_index[0] == idx_atom)\n",
    "    _neigh_type = neigh_atomic_numbers[loc_center]\n",
    "    _P_cluster = sum(_neigh_type == _target_type)/len(_neigh_type)\n",
    "    _alpha = 1-_P_cluster\n",
    "    return _alpha"
   ]
  },
  {
   "cell_type": "code",
   "execution_count": null,
   "id": "6a71f8e3",
   "metadata": {},
   "outputs": [],
   "source": [
    "'''\n",
    "alpha_conf = []\n",
    "for i in range(prep[\"species\"].shape[-2]):\n",
    "    alpha_i = warren_cowley_sro_per_atom(i, prep[\"species\"].squeeze(0).squeeze(0).argmax(dim=-1).cpu().numpy()[i], edge_index, neigh_atomic_numbers)\n",
    "    alpha_conf.append(alpha_i)\n",
    "alpha_conf = np.array(alpha_conf)\n",
    "print(\"alpha_conf=\", alpha_conf)\n",
    "'''"
   ]
  },
  {
   "cell_type": "code",
   "execution_count": null,
   "id": "2b021241",
   "metadata": {},
   "outputs": [],
   "source": [
    "pca_2d_x = PCA(n_components=2)\n",
    "data_2d_x = pca_2d_x.fit_transform(encoded_v[...,0].detach().cpu().numpy())\n",
    "data_2d_x_perturbed = pca_2d_x.transform(encoded_v_perturbed[...,0].detach().cpu().numpy())\n",
    "plt.figure(figsize=(4, 3.5))\n",
    "# plt.scatter(data_2d_x[:,0], data_2d_x[:,1], s=5, c=prep[\"species\"].squeeze(0).squeeze(0).argmax(dim=-1).cpu().numpy(), cmap='viridis')\n",
    "plt.scatter(data_2d_x[:,0], data_2d_x[:,1], s=5, label=\"Crystalline\")\n",
    "plt.scatter(data_2d_x_perturbed[:,0], data_2d_x_perturbed[:,1], s=5, label=\"Perturbed\")\n",
    "cbar =plt.colorbar()\n",
    "cbar.set_label('species')\n",
    "plt.legend()\n",
    "plt.title(\"PCA of encoded_x\")\n",
    "plt.xlabel(\"PC1\")\n",
    "plt.ylabel(\"PC2\")"
   ]
  },
  {
   "cell_type": "code",
   "execution_count": null,
   "id": "cdb06534",
   "metadata": {},
   "outputs": [],
   "source": [
    "plt.figure(figsize=(3.5, 3.5))\n",
    "# plt.scatter(data_2d_x[:,0], data_2d_x[:,1], s=5, c=prep[\"species\"].squeeze(0).squeeze(0).argmax(dim=-1).cpu().numpy(), cmap='viridis')\n",
    "plt.scatter(encoded_v[...,0,0].detach().cpu().numpy(), encoded_v[...,1,0].detach().cpu().numpy(), s=5, label=\"Crystalline\")\n",
    "plt.scatter(encoded_v_perturbed[...,0,0].detach().cpu().numpy(), encoded_v_perturbed[...,1,0].detach().cpu().numpy(), s=5, label=\"Perturbed\")\n",
    "# cbar =plt.colorbar()\n",
    "# cbar.set_label('species')\n",
    "plt.title(\"Components of encoded_x\")\n",
    "plt.legend()\n",
    "plt.xlabel(\"Component 1\")\n",
    "plt.ylabel(\"Component 2\")"
   ]
  },
  {
   "cell_type": "code",
   "execution_count": null,
   "id": "40719fad",
   "metadata": {},
   "outputs": [],
   "source": [
    "plt.figure(figsize=(3.5, 3.5))\n",
    "# plt.scatter(data_2d_x[:,0], data_2d_x[:,1], s=5, c=prep[\"species\"].squeeze(0).squeeze(0).argmax(dim=-1).cpu().numpy(), cmap='viridis')\n",
    "plt.scatter(encoded_v[...,0,0].detach().cpu().numpy(), encoded_v_perturbed[...,0,0].detach().cpu().numpy(), s=5)\n",
    "plt.scatter(encoded_v[...,1,0].detach().cpu().numpy(), encoded_v_perturbed[...,1,0].detach().cpu().numpy(), s=5)\n",
    "plt.scatter(encoded_v[...,2,0].detach().cpu().numpy(), encoded_v_perturbed[...,2,0].detach().cpu().numpy(), s=5)\n",
    "plt.scatter(encoded_v[...,3,0].detach().cpu().numpy(), encoded_v_perturbed[...,3,0].detach().cpu().numpy(), s=5)\n",
    "# cbar =plt.colorbar()\n",
    "# cbar.set_label('species')\n",
    "plt.plot(plt.xlim(), plt.ylim(), 'k--', lw=1)\n",
    "plt.title(\"Encoded_x\")\n",
    "plt.xlabel(\"Encoded_x of crystalline structure\")\n",
    "plt.ylabel(\"Encoded_x of perturbed structure\")"
   ]
  },
  {
   "cell_type": "code",
   "execution_count": null,
   "id": "64776c99",
   "metadata": {},
   "outputs": [],
   "source": [
    "print(prep[\"latents\"].shape, data_2d_x.shape)\n",
    "print(prep[\"latents\"].squeeze(0).shape)"
   ]
  },
  {
   "cell_type": "code",
   "execution_count": null,
   "id": "729d3d15",
   "metadata": {},
   "outputs": [],
   "source": [
    "pca_2d_x = PCA(n_components=2)\n",
    "data_2d_x = pca_2d_x.fit_transform(encoded_v[...,0].detach().cpu().numpy())\n",
    "plt.figure(figsize=(4, 3.5))\n",
    "plt.scatter(data_2d_x[:,0], data_2d_x[:,1], s=5, c=prep[\"latents\"].squeeze(0).reshape(-1,3).cpu().numpy()[:,0], cmap='viridis')\n",
    "cbar =plt.colorbar()\n",
    "cbar.set_label('x')\n",
    "plt.title(\"PCA of encoded_x\")\n",
    "plt.xlabel(\"PC1\")\n",
    "plt.ylabel(\"PC2\")"
   ]
  },
  {
   "cell_type": "code",
   "execution_count": null,
   "id": "f152aecc",
   "metadata": {},
   "outputs": [],
   "source": [
    "pca_2d_y = PCA(n_components=2)\n",
    "data_2d_y = pca_2d_y.fit_transform(encoded_v[...,1].detach().cpu().numpy())\n",
    "plt.figure(figsize=(4, 3.5))\n",
    "plt.scatter(data_2d_y[:,0], data_2d_y[:,1], s=5, c=prep[\"species\"].squeeze(0).squeeze(0).argmax(dim=-1).cpu().numpy(), cmap='viridis')\n",
    "cbar =plt.colorbar()\n",
    "cbar.set_label('y')\n",
    "plt.title(\"PCA of encoded_y\")\n",
    "plt.xlabel(\"PC1\")\n",
    "plt.ylabel(\"PC2\")"
   ]
  },
  {
   "cell_type": "code",
   "execution_count": null,
   "id": "a7b734a2",
   "metadata": {},
   "outputs": [],
   "source": [
    "pca_2d_y = PCA(n_components=2)\n",
    "data_2d_y = pca_2d_y.fit_transform(encoded_v[...,1].detach().cpu().numpy())\n",
    "plt.figure(figsize=(4, 3.5))\n",
    "plt.scatter(data_2d_y[:,0], data_2d_y[:,1], s=5, c=prep[\"latents\"].squeeze(0).reshape(-1,3).cpu().numpy()[:,1], cmap='viridis')\n",
    "cbar =plt.colorbar()\n",
    "cbar.set_label('y')\n",
    "plt.title(\"PCA of encoded_y\")\n",
    "plt.xlabel(\"PC1\")\n",
    "plt.ylabel(\"PC2\")"
   ]
  },
  {
   "cell_type": "code",
   "execution_count": null,
   "id": "58835168",
   "metadata": {},
   "outputs": [],
   "source": [
    "raise RuntimeError"
   ]
  },
  {
   "cell_type": "markdown",
   "id": "fd6713b1",
   "metadata": {},
   "source": [
    "## Test generative model"
   ]
  },
  {
   "cell_type": "code",
   "execution_count": null,
   "id": "4d143595",
   "metadata": {},
   "outputs": [],
   "source": [
    "for key in ['species', 'x', 'cell', 'num_atoms', 'mask', 'v_mask', 'species_next', 'x_next', \"TKS_mask\", \"TKS_v_mask\"]:\n",
    "    sample_batch[key] = sample_batch[key].to(device)\n",
    "\n",
    "pred_pos = model.inference(sample_batch)\n",
    "# prep = model.prep_batch(sample_batch)\n"
   ]
  },
  {
   "cell_type": "code",
   "execution_count": null,
   "id": "bea204d8",
   "metadata": {},
   "outputs": [],
   "source": [
    "@torch.no_grad()\n",
    "def rollout(model, batch):\n",
    "    expanded_batch = batch\n",
    "    positions, _ = model.inference(expanded_batch)\n",
    "    # mask_act_space = (batch[\"mask\"] != 0)\n",
    "    # positions = positions*mask_act_space\n",
    "    new_batch = {**batch}\n",
    "    new_batch['x'] = positions\n",
    "    return positions, new_batch"
   ]
  },
  {
   "cell_type": "code",
   "execution_count": null,
   "id": "bb0d32f7",
   "metadata": {},
   "outputs": [],
   "source": [
    "\n",
    "map_to_chemical_symbol = {\n",
    "    0: \"Cr\",\n",
    "    1: 'Co',\n",
    "    2: \"Ni\"\n",
    "}"
   ]
  },
  {
   "cell_type": "markdown",
   "id": "10cdd6cc",
   "metadata": {},
   "source": []
  },
  {
   "cell_type": "code",
   "execution_count": null,
   "id": "2cd14062",
   "metadata": {},
   "outputs": [],
   "source": [
    "from ase import Atoms\n",
    "from ase.geometry.geometry import get_distances\n",
    "\n",
    "# all_rollout_positions = []\n",
    "all_rollout_atoms = []\n",
    "all_rollout_atoms_ref = []\n",
    "start = time.time()\n",
    "for i_rollout in range(10):\n",
    "# for i_rollout in range(1):\n",
    "    idx = np.random.randint(0, len(dataset), 1)[0]\n",
    "    # idx = 0\n",
    "    item = dataset.__getitem__(idx)\n",
    "    batch = next(iter(torch.utils.data.DataLoader([item])))\n",
    "\n",
    "    for key in ['species', 'x', 'cell', 'num_atoms', 'mask', 'v_mask', 'species_next', 'x_next', 'TKS_mask', 'TKS_v_mask']:\n",
    "        batch[key] = batch[key].to(device)\n",
    "\n",
    "    labels = torch.argmax(batch[\"species\"], dim=3).squeeze(0)\n",
    "    symbols = [[map_to_chemical_symbol[int(i_elem.to('cpu'))] for i_elem in labels[i_conf]] for i_conf in range(len(labels))]\n",
    "\n",
    "    pred_pos, _ = rollout(model, batch)\n",
    "    print(\"idx = \", idx, \"rollout\", i_rollout, pred_pos.shape)\n",
    "\n",
    "    all_atoms = []\n",
    "    all_atoms_ref = []\n",
    "    for t in range(len(pred_pos[0])):\n",
    "        formula = \"\".join(symbols[t])\n",
    "\n",
    "        # print(\"t=\",t)\n",
    "        # for i in range(pred_pos.shape[2]):\n",
    "        #     err = get_distances(batch[\"x_next\"][0][t][i].cpu().numpy(), (pred_pos[0][t].cpu().numpy()[i]), cell=batch['cell'][0][0].cpu().numpy(), pbc=True)[1][0][0]\n",
    "        #     if err>0.1:\n",
    "        #         print(pred_pos[0][t].cpu().numpy()[i], batch[\"x_next\"][0][t][i].cpu().numpy(), err, err>0.1)\n",
    "        atoms = Atoms(formula, positions=pred_pos[0][t].cpu().numpy(), cell=batch['cell'][0][0].cpu().numpy(), pbc=[1,1,1])\n",
    "        # atoms.set_chemical_symbols(symbols[t])\n",
    "        all_atoms.append(atoms)\n",
    "        atoms_ref = Atoms(formula, positions=batch[\"x_next\"][0][t].cpu().numpy(), cell=batch['cell'][0][0].cpu().numpy(), pbc=[1,1,1])\n",
    "        all_atoms_ref.append(atoms_ref)\n",
    "    all_rollout_atoms.append(all_atoms)\n",
    "    all_rollout_atoms_ref.append(all_atoms_ref)\n"
   ]
  },
  {
   "cell_type": "code",
   "execution_count": null,
   "id": "210e02be",
   "metadata": {},
   "outputs": [],
   "source": [
    "\n",
    "'''\n",
    "for i_rollout in range(10):\n",
    "    print(\"rollout\", i_rollout, pred_pos.shape)\n",
    "    all_atoms = all_rollout_atoms[i_rollout]\n",
    "    all_atoms_ref = all_rollout_atoms_ref[i_rollout]\n",
    "    for t in range(len(pred_pos[0])):\n",
    "        print(\"t=\",t)\n",
    "        atoms = all_atoms[t]\n",
    "        atoms_ref = all_atoms_ref[t]\n",
    "        for i in range(atoms.positions.shape[0]):\n",
    "            err = get_distances(atoms_ref.positions[i], atoms.positions[i], cell=atoms.cell, pbc=True)[1][0][0]\n",
    "\n",
    "            if err>0.1:\n",
    "                print(atoms.positions[i], atoms_ref.positions[i], err, err>0.1)\n",
    "        \n",
    "'''"
   ]
  },
  {
   "cell_type": "code",
   "execution_count": null,
   "id": "76f18d78",
   "metadata": {},
   "outputs": [],
   "source": [
    "import shutil\n",
    "from ase.io import write\n",
    "\n",
    "for i in range(10):\n",
    "    dirname = os.path.join(args.out_dir, f\"rollout_{i}\")\n",
    "    if not os.path.exists(dirname):\n",
    "        os.makedirs(dirname)\n",
    "    filename = os.path.join(dirname, \"gentraj_.xyz\")\n",
    "    filename_ref = os.path.join(dirname, \"reftraj_.xyz\")\n",
    "    if os.path.exists(filename):\n",
    "        shutil.move(filename, os.path.join(dirname, \"bck.0.gentraj.xyz\"))\n",
    "        shutil.move(filename_ref, os.path.join(dirname, \"bck.0.reftraj.xyz\"))\n",
    "\n",
    "    for atoms in all_rollout_atoms[i]:\n",
    "        write(filename, atoms, append=True)\n",
    "    for ref_atoms in all_rollout_atoms_ref[i]:\n",
    "        print(i, filename_ref)\n",
    "        write(filename_ref, ref_atoms, append=True)"
   ]
  },
  {
   "cell_type": "code",
   "execution_count": null,
   "id": "7c216848",
   "metadata": {},
   "outputs": [],
   "source": [
    "raise RuntimeError"
   ]
  },
  {
   "cell_type": "code",
   "execution_count": null,
   "id": "20e38cc4",
   "metadata": {},
   "outputs": [],
   "source": [
    "# Generate trajectory\n",
    "# idx = np.random.randint(0, len(dataset), 1)[0]\n",
    "idx = 0\n",
    "item = dataset.__getitem__(idx, random_starting_point=False)\n",
    "batch = next(iter(torch.utils.data.DataLoader([item])))\n",
    "\n",
    "# all_rollout_positions = []\n",
    "traj_rollout_atoms = []\n",
    "# traj_rollout_atoms_ref = []\n",
    "start = time.time()\n",
    "for i_rollout in range(args.num_rollouts):\n",
    "# for i_rollout in range(1):\n",
    "    for key in ['species', 'x', 'cell', 'num_atoms', 'mask', 'v_mask']:\n",
    "        batch[key] = batch[key].to('cuda')\n",
    "\n",
    "    labels = torch.argmax(batch[\"species\"], dim=3).squeeze(0)\n",
    "    symbols = [[map_to_chemical_symbol[int(i_elem.to('cpu'))] for i_elem in labels[i_conf]] for i_conf in range(len(labels))]\n",
    "\n",
    "    pred_pos, next_batch = rollout(model, batch)\n",
    "    print(\"idx = \", idx, \"rollout\", i_rollout, pred_pos.shape)\n",
    "    all_atoms = []\n",
    "    all_atoms_ref = []\n",
    "    all_out_pos = []\n",
    "    for t in range(len(pred_pos[0])):\n",
    "        formula = \"\".join(symbols[t])\n",
    "\n",
    "        # if i_rollout == 0:\n",
    "        #     for i in range(pred_pos.shape[2]):\n",
    "        err = get_distances(batch[\"x_next\"][0][t].cpu().numpy(), (pred_pos[0][t].cpu().numpy()), cell=batch['cell'][0][0].cpu().numpy(), pbc=True)[1]\n",
    "\n",
    "        # out_pos = torch.stack([pred_pos[0][t][i] if err[i][i] > 1 else batch[\"x\"][0][t][i] for i in range(len(pred_pos[0][t]))])\n",
    "        out_pos = pred_pos[0][t]\n",
    "\n",
    "        atoms = Atoms(formula, positions=out_pos.cpu().numpy(), cell=batch['cell'][0][0].cpu().numpy(), pbc=[1,1,1])\n",
    "        \n",
    "        # atoms.set_chemical_symbols(symbols[t])\n",
    "        all_atoms.append(atoms)\n",
    "        # atoms_ref = Atoms(formula, positions=batch[\"x_next\"][0][t].cpu().numpy(), cell=batch['cell'][0][0].cpu().numpy(), pbc=[1,1,1])\n",
    "        # all_atoms_ref.append(atoms_ref)\n",
    "        all_out_pos.append(out_pos)\n",
    "    # next_batch[\"x\"] = out_pos.unsqueeze(0).unsqueeze(0)\n",
    "    traj_rollout_atoms.append(all_atoms)\n",
    "    # all_rollout_atoms_ref.append(all_atoms_ref)\n",
    "    batch = next_batch"
   ]
  },
  {
   "cell_type": "code",
   "execution_count": null,
   "id": "396cfde1",
   "metadata": {},
   "outputs": [],
   "source": [
    "\n",
    "\n",
    "\n",
    "filename = os.path.join(args.out_dir, \"gentraj_fromstart.xyz\")\n",
    "if os.path.exists(filename):\n",
    "    shutil.move(filename, os.path.join(args.out_dir, \"bck.0.gentraj.xyz\"))\n",
    "for atoms in traj_rollout_atoms:\n",
    "    write(filename, atoms, append=True)\n"
   ]
  }
 ],
 "metadata": {
  "kernelspec": {
   "display_name": "odefed_mdgen",
   "language": "python",
   "name": "python3"
  },
  "language_info": {
   "codemirror_mode": {
    "name": "ipython",
    "version": 3
   },
   "file_extension": ".py",
   "mimetype": "text/x-python",
   "name": "python",
   "nbconvert_exporter": "python",
   "pygments_lexer": "ipython3",
   "version": "3.10.16"
  }
 },
 "nbformat": 4,
 "nbformat_minor": 5
}
