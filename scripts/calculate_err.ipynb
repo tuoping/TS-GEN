{
 "cells": [
  {
   "cell_type": "code",
   "execution_count": null,
   "id": "fea204c0",
   "metadata": {},
   "outputs": [],
   "source": [
    "import ase, ase.io\n",
    "from mace.calculators import MACECalculator\n",
    "calculator = MACECalculator(\n",
    "            model_path=\"mace.model\",\n",
    "            device=\"cuda\",\n",
    "            default_dtype=\"float32\",\n",
    "        )"
   ]
  },
  {
   "cell_type": "code",
   "execution_count": null,
   "id": "e1f46de8",
   "metadata": {},
   "outputs": [],
   "source": [
    "atoms = ase.io.read('rollout_0/gentraj_1.xyz', format='xyz', index=\":\")[1]\n",
    "atoms_ref = ase.io.read('rollout_0/reftraj_1.xyz', format='xyz', index=\":\")[1]\n",
    "\n"
   ]
  },
  {
   "cell_type": "code",
   "execution_count": null,
   "id": "faaf0248",
   "metadata": {},
   "outputs": [],
   "source": [
    "import matplotlib.pyplot as plt\n",
    "import numpy as np"
   ]
  },
  {
   "cell_type": "code",
   "execution_count": null,
   "id": "1214aba8",
   "metadata": {},
   "outputs": [],
   "source": [
    "mask = np.where(np.array(atoms_ref.get_positions()).ravel()- np.array(atoms.get_positions()).ravel() != 0)\n",
    "print(mask)"
   ]
  },
  {
   "cell_type": "code",
   "execution_count": null,
   "id": "638c9de0",
   "metadata": {},
   "outputs": [],
   "source": [
    "plt.figure(figsize=(3.5, 3.5))\n",
    "mask = np.where(np.array(atoms_ref.get_positions()).ravel()- np.array(atoms.get_positions()).ravel() != 0)\n",
    "plt.scatter(np.array(atoms_ref.get_positions()).ravel(), np.array(atoms.get_positions()).ravel())\n",
    "plt.plot(plt.xlim(), plt.xlim(), 'k--')\n",
    "plt.xlabel('Reference positions')\n",
    "plt.ylabel('Generated positions')\n"
   ]
  },
  {
   "cell_type": "code",
   "execution_count": null,
   "id": "a8c67bcf",
   "metadata": {},
   "outputs": [],
   "source": [
    "\n",
    "all_positions = None\n",
    "all_positions_ref = None\n",
    "all_energy_atoms = []\n",
    "all_energy_atoms_ref = []\n",
    "mean_distances = []\n",
    "for i_dir in range(0, 30):\n",
    "    dirname = f'rollout_{i_dir}'\n",
    "    atoms = ase.io.read(f'{dirname}/gentraj_1.xyz', format='xyz', index=\":\")[1]\n",
    "    atoms.set_cell(np.eye(3,3)*25)\n",
    "    atoms.calc = calculator\n",
    "    energy_atoms = atoms.get_potential_energy()\n",
    "    all_energy_atoms.append(energy_atoms)\n",
    "    atoms_ref = ase.io.read(f'{dirname}/reftraj_1.xyz', format='xyz', index=\":\")[1]\n",
    "    atoms_ref.set_cell(np.eye(3,3)*25)\n",
    "    atoms_ref.calc = calculator\n",
    "    energy_atoms_ref = atoms_ref.get_potential_energy()\n",
    "    all_energy_atoms_ref.append(energy_atoms_ref)\n",
    "    distances = np.linalg.norm(atoms.positions - atoms_ref.positions, axis=-1)\n",
    "    mean_distances.append(np.mean(distances))\n",
    "    if all_positions is None:\n",
    "        all_positions = list(atoms.get_positions())\n",
    "        all_positions_ref = list(atoms_ref.get_positions())\n",
    "    all_positions += list(atoms.get_positions())\n",
    "    all_positions_ref += list(atoms_ref.get_positions())\n",
    "all_positions = np.array(all_positions)\n",
    "all_positions_ref = np.array(all_positions_ref)"
   ]
  },
  {
   "cell_type": "code",
   "execution_count": null,
   "id": "5c290d5d",
   "metadata": {},
   "outputs": [],
   "source": [
    "plt.figure(figsize=(3.5, 3.5))\n",
    "plt.scatter(all_positions_ref.ravel(), all_positions.ravel())\n",
    "plt.plot(plt.xlim(), plt.xlim(), 'k--')\n",
    "plt.xlabel('Reference positions')\n",
    "plt.ylabel('Generated positions')"
   ]
  },
  {
   "cell_type": "code",
   "execution_count": null,
   "id": "378af724",
   "metadata": {},
   "outputs": [],
   "source": [
    "plt.figure(figsize=(3.5, 3.5))\n",
    "plt.scatter(all_energy_atoms_ref, all_energy_atoms)\n",
    "plt.plot(plt.xlim(), plt.xlim(), 'k--')\n",
    "plt.xlabel('Reference energies')\n",
    "plt.ylabel('Generated energies')"
   ]
  },
  {
   "cell_type": "code",
   "execution_count": null,
   "id": "de929e4a",
   "metadata": {},
   "outputs": [],
   "source": [
    "# mask_outlier = np.where((np.abs(all_positions.ravel()- all_positions_ref.ravel()) < 2) & (np.abs(all_positions.ravel()- all_positions_ref.ravel()) > 0))\n",
    "print(\"MEDIAN ERROR: \", np.median(np.abs(all_positions.ravel()- all_positions_ref.ravel())))\n",
    "print(\"MEAN ERROR: \", np.mean(np.abs(all_positions.ravel()- all_positions_ref.ravel())))\n",
    "print(\"MAX ERROR: \", np.max(np.abs(all_positions.ravel()- all_positions_ref.ravel())))\n"
   ]
  },
  {
   "cell_type": "code",
   "execution_count": null,
   "id": "e03abedd",
   "metadata": {},
   "outputs": [],
   "source": [
    "eV_2_kcalmol = 23.0605\n",
    "print(\"Median Energy Difference: \", (np.median((np.array(all_energy_atoms) - np.array(all_energy_atoms_ref))))*eV_2_kcalmol)\n",
    "print(\"Max Energy Difference: \", (np.array(all_energy_atoms) - np.array(all_energy_atoms_ref)).max()*eV_2_kcalmol)\n",
    "print(\"Mean Energy Difference: \", (np.array(all_energy_atoms) - np.array(all_energy_atoms_ref)).mean()*eV_2_kcalmol)\n",
    "# print((np.array(all_energy_atoms) - np.array(all_energy_atoms_ref)))"
   ]
  },
  {
   "cell_type": "code",
   "execution_count": null,
   "id": "13b9ab7c",
   "metadata": {},
   "outputs": [],
   "source": [
    "print(np.where(np.array(all_energy_atoms) - np.array(all_energy_atoms_ref) <= 1.58/eV_2_kcalmol)[0].shape[0])\n",
    "print(np.array(all_energy_atoms).shape[0])\n",
    "print(np.where(np.array(all_energy_atoms) - np.array(all_energy_atoms_ref) <= 1.58/eV_2_kcalmol)[0].shape[0]/np.array(all_energy_atoms).shape[0])"
   ]
  },
  {
   "cell_type": "code",
   "execution_count": null,
   "id": "4f4ee00a",
   "metadata": {},
   "outputs": [],
   "source": [
    "select_idx = np.where(np.array(all_energy_atoms) - np.array(all_energy_atoms_ref) <= 1.58/eV_2_kcalmol)[0]\n",
    "print(\"Selected indices: \", select_idx)"
   ]
  },
  {
   "cell_type": "code",
   "execution_count": null,
   "id": "e2eb14f1",
   "metadata": {},
   "outputs": [],
   "source": []
  },
  {
   "cell_type": "code",
   "execution_count": null,
   "id": "d270bc86",
   "metadata": {},
   "outputs": [],
   "source": [
    "dirname = f'rollout_{4}'\n",
    "atoms = ase.io.read(f'{dirname}/gentraj_1.xyz', format='xyz', index=\":\")[0]\n",
    "atoms.set_cell(np.eye(3,3)*25)\n",
    "atoms.calc = calculator\n",
    "r_energy_atoms = atoms.get_potential_energy()\n",
    "print(r_energy_atoms*eV_2_kcalmol)"
   ]
  },
  {
   "cell_type": "code",
   "execution_count": null,
   "id": "9ed0113f",
   "metadata": {},
   "outputs": [],
   "source": [
    "print(all_energy_atoms[4]*eV_2_kcalmol-r_energy_atoms*eV_2_kcalmol, all_energy_atoms_ref[4]*eV_2_kcalmol-r_energy_atoms*eV_2_kcalmol)\n",
    "print(np.array(mean_distances)[4], np.array(mean_distances)[4])"
   ]
  },
  {
   "cell_type": "code",
   "execution_count": null,
   "id": "91c11500",
   "metadata": {},
   "outputs": [],
   "source": [
    "dirname = f'rollout_{4}'\n",
    "atoms = ase.io.read(f'{dirname}/gentraj_1.xyz', format='xyz', index=\":\")[2]\n",
    "atoms.set_cell(np.eye(3,3)*25)\n",
    "atoms.calc = calculator\n",
    "energy_atoms = atoms.get_potential_energy()\n",
    "print(energy_atoms*eV_2_kcalmol-r_energy_atoms*eV_2_kcalmol)"
   ]
  },
  {
   "cell_type": "code",
   "execution_count": null,
   "id": "83372f49",
   "metadata": {},
   "outputs": [],
   "source": [
    "eV_2_kcalmol = 23.0605\n",
    "plt.figure(figsize=(3.5, 3.5))\n",
    "plt.scatter(np.array(mean_distances)[select_idx], (np.array(all_energy_atoms) - np.array(all_energy_atoms_ref))[select_idx]*eV_2_kcalmol)\n",
    "plt.axhline(0, c='k', ls='--')\n",
    "# plt.ylim((np.array(all_energy_atoms) - np.array(all_energy_atoms_ref)).min(), 0.1)\n",
    "plt.xlabel('r.m.s.d $[\\AA]$')\n",
    "plt.ylabel('$\\Delta E\\ [kcal/mol]$')"
   ]
  },
  {
   "cell_type": "code",
   "execution_count": null,
   "id": "eba7204e",
   "metadata": {},
   "outputs": [],
   "source": [
    "# mask_outlier = np.where((np.array(all_energy_atoms) - np.array(all_energy_atoms_ref)) < 0.1)\n",
    "\n",
    "plt.figure(figsize=(3.5,1.5))\n",
    "_ = plt.hist((np.array(all_energy_atoms) - np.array(all_energy_atoms_ref))[select_idx]*eV_2_kcalmol, bins=100, color='teal')\n",
    "plt.semilogx()\n",
    "plt.axvline(1.58, ls=\"--\", c=\"grey\")\n",
    "plt.xlabel(\"$\\Delta E_{TS}\\ (kcal/mol)$\")\n",
    "plt.ylabel(\"Count\")"
   ]
  },
  {
   "cell_type": "code",
   "execution_count": null,
   "id": "50f25e41",
   "metadata": {},
   "outputs": [],
   "source": [
    "3.5/2"
   ]
  },
  {
   "cell_type": "code",
   "execution_count": null,
   "id": "b4d5e8bd",
   "metadata": {},
   "outputs": [],
   "source": [
    "\n",
    "plt.figure(figsize=(3.5,1.5))\n",
    "_ = plt.hist(mean_distances, bins=1000, color='teal')\n",
    "plt.semilogx()\n",
    "plt.xlabel(\"RMSD $(\\AA)$\")\n",
    "plt.ylabel(\"Count\")"
   ]
  },
  {
   "cell_type": "code",
   "execution_count": null,
   "id": "9bd1bb2d",
   "metadata": {},
   "outputs": [],
   "source": [
    "mask_ts = np.where(np.array(mean_distances) > 0.05)[0]\n",
    "\n",
    "import os\n",
    "from ase.optimize import BFGS\n",
    "\n",
    "if os.path.exists(\"relax.extxyz\"): os.remove(\"relax.extxyz\")\n",
    "for i_dir in mask_ts:\n",
    "    dirname = f'rollout_{i_dir}'\n",
    "    traj_ref = ase.io.read(f'{dirname}/reftraj_1.xyz', format='xyz', index=\":\")\n",
    "    for i_atoms in range(3):\n",
    "        atoms_ref = traj_ref[i_atoms]\n",
    "        atoms_ref.set_cell(np.eye(3,3)*25)\n",
    "        center = np.mean(atoms_ref.positions, axis=0)\n",
    "        atoms_ref.positions += 12.5 - center\n",
    "        if i_atoms in [0,2]:\n",
    "            atoms_ref.calc = calculator\n",
    "            # print(energy_atoms)\n",
    "            opt = BFGS(atoms, logfile='mace_ase.log')\n",
    "            opt.run(fmax=0.01)\n",
    "            energy_atoms = atoms_ref.get_potential_energy()\n",
    "            atoms_ref.info['energy'] = energy_atoms\n",
    "            atoms_ref.calc = None\n",
    "            natoms = len(atoms_ref)\n",
    "            traj_ref[i_atoms].set_array('energy', np.full(natoms, energy_atoms))\n",
    "    traj_ref[1].info['energy'] = all_energy_atoms_ref[i_dir]\n",
    "    natoms = len(traj_ref[1])\n",
    "    traj_ref[1].set_array('energy', np.full(natoms, energy_atoms))\n",
    "    print(\"Barrier = \", traj_ref[1].info['energy']-traj_ref[0].info['energy'])\n",
    "    ase.io.write(\"relax.extxyz\", traj_ref, append=True, format=\"extxyz\")"
   ]
  },
  {
   "cell_type": "code",
   "execution_count": null,
   "id": "300cd223",
   "metadata": {},
   "outputs": [],
   "source": [
    "from ase import Atoms\n",
    "from ase.io import read\n",
    "dirname=\"rollout_1\"\n",
    "traj_ref = ase.io.read(f'{dirname}/reftraj_1.xyz', format='xyz', index=\":\")\n",
    "mol = traj_ref[0]      # ASE Atoms object\n",
    "# suppose you know atoms 0–1–2 form the angle you want:\n",
    "theta = mol.get_angle(1, 3, 4, mic=False)\n",
    "print(f\"Angle = {theta:.2f}°\")"
   ]
  },
  {
   "cell_type": "code",
   "execution_count": null,
   "id": "6f56acd5",
   "metadata": {},
   "outputs": [],
   "source": [
    "from ase import Atoms\n",
    "from ase.io import read\n",
    "dirname=\"rollout_2\"\n",
    "traj_ref = ase.io.read(f'{dirname}/reftraj_1.xyz', format='xyz', index=\":\")\n",
    "mol = traj_ref[0]      # ASE Atoms object\n",
    "# suppose you know atoms 0–1–2 form the angle you want:\n",
    "theta = mol.get_angle(1, 3, 4, mic=False)\n",
    "print(f\"Angle = {theta:.2f}°\")"
   ]
  },
  {
   "cell_type": "code",
   "execution_count": null,
   "id": "efe5dcb8",
   "metadata": {},
   "outputs": [],
   "source": [
    "from ase import Atoms\n",
    "from ase.io import read\n",
    "dirname=\"rollout_1\"\n",
    "traj = ase.io.read(f'{dirname}/gentraj_1.xyz', format='xyz', index=\":\")\n",
    "mol = traj[0]      # ASE Atoms object\n",
    "# suppose you know atoms 0–1–2 form the angle you want:\n",
    "theta = mol.get_angle(1, 3, 4, mic=False)\n",
    "print(f\"Angle = {theta:.2f}°\")"
   ]
  },
  {
   "cell_type": "markdown",
   "id": "079a028c",
   "metadata": {},
   "source": []
  }
 ],
 "metadata": {
  "kernelspec": {
   "display_name": "odefed_mdgen",
   "language": "python",
   "name": "python3"
  },
  "language_info": {
   "codemirror_mode": {
    "name": "ipython",
    "version": 3
   },
   "file_extension": ".py",
   "mimetype": "text/x-python",
   "name": "python",
   "nbconvert_exporter": "python",
   "pygments_lexer": "ipython3",
   "version": "3.10.16"
  }
 },
 "nbformat": 4,
 "nbformat_minor": 5
}
